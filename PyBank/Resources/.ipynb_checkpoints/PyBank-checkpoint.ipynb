{
 "cells": [
  {
   "cell_type": "code",
   "execution_count": 1,
   "id": "5dc38f54-e118-4105-b21e-78a208b8f6f0",
   "metadata": {
    "tags": []
   },
   "outputs": [],
   "source": [
    "# Importing modules\n",
    "\n",
    "import csv"
   ]
  },
  {
   "cell_type": "code",
   "execution_count": 8,
   "id": "9bf93ab5-c83e-43c9-857c-d9ea15eb72ba",
   "metadata": {
    "tags": []
   },
   "outputs": [],
   "source": [
    "# Read the data from the CSV file\n",
    "with open(\"budget_data.csv\", \"r\") as file:\n",
    "    reader = csv.reader(file)\n",
    "    \n",
    "    # skip the header row\n",
    "    next(reader)\n",
    "    \n",
    "    # Creating empty lists to store information\n",
    "    months = []\n",
    "    profit_loss = []\n",
    "    changes = []\n",
    "    \n",
    "    # Iterating through each row of CSV file\n",
    "    for row in reader:\n",
    "        months.append(row[0])\n",
    "        # row[0] refers to the value in the first column (index 0)\n",
    "        \n",
    "        profit_loss.append(int(row[1]))\n",
    "        # row[1] refers to the value in the second column (index 1)\n",
    "\n",
    "# Calculate the total number of months\n",
    "total_months = len(months)\n",
    "\n",
    "# Calculate the total amount of profit/loss\n",
    "total = sum(profit_loss)"
   ]
  },
  {
   "cell_type": "code",
   "execution_count": 9,
   "id": "9ffd2351-ac95-4754-9c7b-06e22f7aef39",
   "metadata": {
    "tags": []
   },
   "outputs": [],
   "source": [
    "# Calculate the changes in profit/loss and store them in a list\n",
    "for i in range(1, total_months):\n",
    "    change = profit_loss[i] - profit_loss[i - 1]\n",
    "    changes.append(change)\n",
    "\n",
    "# Calculate the average change\n",
    "average_change = sum(changes) / len(changes)\n",
    "\n",
    "# Find the greatest increase and decrease in profit/loss\n",
    "greatest_increase = max(changes)\n",
    "greatest_increase_date = months[changes.index(greatest_increase) + 1]\n",
    "\n",
    "greatest_decrease = min(changes)\n",
    "greatest_decrease_date = months[changes.index(greatest_decrease) + 1]"
   ]
  },
  {
   "cell_type": "code",
   "execution_count": 10,
   "id": "5ef5ce15-cab9-414b-b9d1-b6761c015ba4",
   "metadata": {
    "tags": []
   },
   "outputs": [
    {
     "name": "stdout",
     "output_type": "stream",
     "text": [
      "Financial Analysis\n",
      "-----------------------------\n",
      "Total Months: 86\n",
      "Total: $22564198\n",
      "Average Change: $-8311.11\n",
      "Greatest Increase in Profits: Aug-16 ($1862002)\n",
      "Greatest Decrease in Profits: Feb-14 ($-1825558)\n"
     ]
    }
   ],
   "source": [
    "# Print results as examples picture\n",
    "print(\"Financial Analysis\")\n",
    "print(\"-----------------------------\")\n",
    "print(f\"Total Months: {total_months}\")\n",
    "print(f\"Total: ${total}\")\n",
    "print(f\"Average Change: ${average_change:.2f}\")\n",
    "print(f\"Greatest Increase in Profits: {greatest_increase_date} (${greatest_increase})\")\n",
    "print(f\"Greatest Decrease in Profits: {greatest_decrease_date} (${greatest_decrease})\")"
   ]
  },
  {
   "cell_type": "code",
   "execution_count": null,
   "id": "f125424b-e1fc-46bf-a21d-ba52914cc058",
   "metadata": {},
   "outputs": [],
   "source": []
  }
 ],
 "metadata": {
  "kernelspec": {
   "display_name": "Python 3 (ipykernel)",
   "language": "python",
   "name": "python3"
  },
  "language_info": {
   "codemirror_mode": {
    "name": "ipython",
    "version": 3
   },
   "file_extension": ".py",
   "mimetype": "text/x-python",
   "name": "python",
   "nbconvert_exporter": "python",
   "pygments_lexer": "ipython3",
   "version": "3.11.5"
  }
 },
 "nbformat": 4,
 "nbformat_minor": 5
}
