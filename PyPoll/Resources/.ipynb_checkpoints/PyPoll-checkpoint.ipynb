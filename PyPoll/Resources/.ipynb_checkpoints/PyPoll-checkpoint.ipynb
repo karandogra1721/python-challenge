{
 "cells": [
  {
   "cell_type": "code",
   "execution_count": 2,
   "id": "0f527866-0239-4c80-80a1-eaaf887d6998",
   "metadata": {
    "tags": []
   },
   "outputs": [],
   "source": [
    "# Importing modules\n",
    "\n",
    "import csv"
   ]
  },
  {
   "cell_type": "code",
   "execution_count": 7,
   "id": "79dfdcc9-7f39-4f91-91bb-bb172a4a533e",
   "metadata": {
    "tags": []
   },
   "outputs": [],
   "source": [
    "# Read the election data from the CSV file\n",
    "with open(\"election_data.csv\", \"r\") as file:\n",
    "    reader = csv.reader(file)\n",
    "    \n",
    "    # Skip the header row\n",
    "    next(reader)\n",
    "    \n",
    "    # Creating empty lists to store information\n",
    "    total_votes = 0\n",
    "    candidates = {}\n",
    "    \n",
    "    # Iterating through each row of CSV file\n",
    "    for row in reader:\n",
    "        candidate = row[2]\n",
    "        # row[2] refers to the value in the third column (index 2)\n",
    "        \n",
    "        total_votes = total_votes + 1\n",
    "        candidates[candidate] = candidates.get(candidate, 0) + 1\n",
    "        \n",
    "# Calculate the percentage of votes won by each candidate\n",
    "results = []    "
   ]
  },
  {
   "cell_type": "code",
   "execution_count": 8,
   "id": "62a24dc3-40f5-4355-9802-337487761edc",
   "metadata": {
    "tags": []
   },
   "outputs": [],
   "source": [
    "# Iterating through each row of CSV file\n",
    "for candidate, votes in candidates.items():\n",
    "    percentage = (votes / total_votes) * 100\n",
    "    results.append((candidate, percentage, votes))  "
   ]
  },
  {
   "cell_type": "code",
   "execution_count": 9,
   "id": "146d179d-f3d3-4a75-b24b-ebf70809bfe8",
   "metadata": {
    "tags": []
   },
   "outputs": [
    {
     "name": "stdout",
     "output_type": "stream",
     "text": [
      "Election Results\n",
      "-------------------------\n",
      "Total Votes: 369711\n",
      "-------------------------\n",
      "Charles Casper Stockham: 23.049% (85213)\n",
      "Diana DeGette: 73.812% (272892)\n",
      "Raymon Anthony Doane: 3.139% (11606)\n",
      "-------------------------\n",
      "Winner: Diana DeGette\n",
      "-------------------------\n"
     ]
    }
   ],
   "source": [
    "# Find the winner\n",
    "winner = max(results, key = lambda x: x[2])\n",
    "        \n",
    "print(\"Election Results\")\n",
    "print(\"-------------------------\")\n",
    "print(f\"Total Votes: {total_votes}\")\n",
    "print(\"-------------------------\")\n",
    "for candidate, percentage, votes in results:\n",
    "    print(f\"{candidate}: {percentage:.3f}% ({votes})\")\n",
    "print(\"-------------------------\")\n",
    "print(f\"Winner: {winner[0]}\")\n",
    "print(\"-------------------------\")  "
   ]
  },
  {
   "cell_type": "code",
   "execution_count": null,
   "id": "bd01349c-9fd0-4cbe-ac4c-0b74df4ab05e",
   "metadata": {},
   "outputs": [],
   "source": []
  }
 ],
 "metadata": {
  "kernelspec": {
   "display_name": "Python 3 (ipykernel)",
   "language": "python",
   "name": "python3"
  },
  "language_info": {
   "codemirror_mode": {
    "name": "ipython",
    "version": 3
   },
   "file_extension": ".py",
   "mimetype": "text/x-python",
   "name": "python",
   "nbconvert_exporter": "python",
   "pygments_lexer": "ipython3",
   "version": "3.11.5"
  }
 },
 "nbformat": 4,
 "nbformat_minor": 5
}
